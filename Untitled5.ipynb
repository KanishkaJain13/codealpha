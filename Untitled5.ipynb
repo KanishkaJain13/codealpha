{
 "cells": [
  {
   "cell_type": "code",
   "execution_count": 1,
   "id": "46168970",
   "metadata": {},
   "outputs": [
    {
     "name": "stdout",
     "output_type": "stream",
     "text": [
      "Conversion Rates:\n",
      "        Conversion_Rate  Total\n",
      "Group                        \n",
      "A                  0.6      5\n",
      "B                  0.6      5\n",
      "\n",
      "T-statistic: 0.0\n",
      "P-value: 1.0\n",
      "\n",
      "Result: Fail to reject the null hypothesis. There is no significant difference between Group A and Group B.\n"
     ]
    }
   ],
   "source": [
    "import pandas as pd\n",
    "import numpy as np\n",
    "from scipy import stats\n",
    "\n",
    "# Sample data\n",
    "data = {\n",
    "    'Group': ['A', 'A', 'A', 'A', 'A', 'B', 'B', 'B', 'B', 'B'],\n",
    "    'Conversion': [1, 0, 0, 1, 1, 0, 1, 1, 1, 0]\n",
    "}\n",
    "\n",
    "# Create DataFrame\n",
    "df = pd.DataFrame(data)\n",
    "\n",
    "# Calculate conversion rates\n",
    "conversion_rates = df.groupby('Group')['Conversion'].agg([np.mean, np.size])\n",
    "conversion_rates.columns = ['Conversion_Rate', 'Total']\n",
    "\n",
    "# Separate data for group A and B\n",
    "a_conversions = df[df['Group'] == 'A']['Conversion']\n",
    "b_conversions = df[df['Group'] == 'B']['Conversion']\n",
    "\n",
    "# Perform two-sample t-test\n",
    "t_stat, p_value = stats.ttest_ind(a_conversions, b_conversions)\n",
    "\n",
    "# Print results\n",
    "print(\"Conversion Rates:\\n\", conversion_rates)\n",
    "print(\"\\nT-statistic:\", t_stat)\n",
    "print(\"P-value:\", p_value)\n",
    "\n",
    "# Interpret the p-value\n",
    "alpha = 0.05\n",
    "if p_value < alpha:\n",
    "    print(\"\\nResult: Reject the null hypothesis. There is a significant difference between Group A and Group B.\")\n",
    "else:\n",
    "    print(\"\\nResult: Fail to reject the null hypothesis. There is no significant difference between Group A and Group B.\")"
   ]
  },
  {
   "cell_type": "code",
   "execution_count": null,
   "id": "7b193ae3",
   "metadata": {},
   "outputs": [],
   "source": []
  }
 ],
 "metadata": {
  "kernelspec": {
   "display_name": "Python 3 (ipykernel)",
   "language": "python",
   "name": "python3"
  },
  "language_info": {
   "codemirror_mode": {
    "name": "ipython",
    "version": 3
   },
   "file_extension": ".py",
   "mimetype": "text/x-python",
   "name": "python",
   "nbconvert_exporter": "python",
   "pygments_lexer": "ipython3",
   "version": "3.10.9"
  }
 },
 "nbformat": 4,
 "nbformat_minor": 5
}
